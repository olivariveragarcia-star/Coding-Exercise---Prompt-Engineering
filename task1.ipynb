{
  "cells": [
    {
      "cell_type": "code",
      "execution_count": 2,
      "metadata": {
        "colab": {
          "base_uri": "https://localhost:8080/"
        },
        "id": "POo-WBz2M0ue",
        "outputId": "69739e49-3c60-4f78-a078-f58d655d2706"
      },
      "outputs": [
        {
          "output_type": "stream",
          "name": "stdout",
          "text": [
            "\n",
            "============================================================\n",
            "Customer Support Flow\n",
            "============================================================\n",
            "[Customer Support - Step 1] Hi! What's your name and a brief description of the issue?\n",
            "[User] Hi, I'm Alex. My order #1234 arrived damaged.\n",
            "[Customer Support - Step 2] It sounds like your order arrived damaged. We usually replace or refund.\n",
            "[Customer Support - Step 3] I can ship a free replacement in 2 business days or issue a full refund.\n",
            "[User] Replacement please.\n",
            "[Customer Support - Step 4] Got it—replacement confirmed. You'll get an email shortly. Anything else?\n"
          ]
        }
      ],
      "source": [
        "\n",
        "# Mock AI: returns simple responses so this runs anywhere.\n",
        "import textwrap\n",
        "def call_ai(prompt: str) -> str:\n",
        "    p = prompt.lower()\n",
        "    if \"step 1\" in p:\n",
        "        return \"[Customer Support - Step 1] Hi! What's your name and a brief description of the issue?\"\n",
        "    if \"step 2\" in p:\n",
        "        return \"[Customer Support - Step 2] It sounds like your order arrived damaged. We usually replace or refund.\"\n",
        "    if \"step 3\" in p:\n",
        "        return \"[Customer Support - Step 3] I can ship a free replacement in 2 business days or issue a full refund.\"\n",
        "    if \"step 4\" in p:\n",
        "        return \"[Customer Support - Step 4] Got it—replacement confirmed. You'll get an email shortly. Anything else?\"\n",
        "    return \"Mock response.\"\n",
        "\n",
        "def show(title):\n",
        "    print(\"\\n\" + \"=\"*60 + f\"\\n{title}\\n\" + \"=\"*60)\n",
        "\n",
        "# Prompt chain: 4 steps\n",
        "show(\"Customer Support Flow\")\n",
        "step1 = call_ai(\"STEP 1: Customer Support greeting & info request\")\n",
        "print(step1)\n",
        "print(\"[User] Hi, I'm Alex. My order #1234 arrived damaged.\")\n",
        "\n",
        "step2 = call_ai(\"STEP 2: Summarize issue + policies\")\n",
        "print(step2)\n",
        "\n",
        "step3 = call_ai(\"STEP 3: Offer resolution options\")\n",
        "print(step3)\n",
        "print(\"[User] Replacement please.\")\n",
        "\n",
        "step4 = call_ai(\"STEP 4: Confirm choice + wrap up\")\n",
        "print(step4)\n"
      ],
      "id": "POo-WBz2M0ue"
    }
  ],
  "metadata": {
    "colab": {
      "provenance": []
    },
    "kernelspec": {
      "display_name": "Python 3",
      "language": "python",
      "name": "python3"
    },
    "language_info": {
      "name": "python",
      "version": "3.x"
    }
  },
  "nbformat": 4,
  "nbformat_minor": 5
}