{
  "cells": [
    {
      "cell_type": "code",
      "execution_count": 13,
      "metadata": {
        "colab": {
          "base_uri": "https://localhost:8080/"
        },
        "id": "zOeaiqJSOCMo",
        "outputId": "c31672bf-d817-4f85-d060-ee2a8dd5a724"
      },
      "outputs": [
        {
          "output_type": "stream",
          "name": "stdout",
          "text": [
            "[AI Raw]\n",
            "Thought: Let's write a tiny program that prints the first N Fibonacci numbers.\n",
            "Action: Write Code\n",
            "```python\n",
            "def fib(n):\n",
            "    seq = []\n",
            "    a, b = 0, 1\n",
            "    for _ in range(n):\n",
            "        seq.append(a)\n",
            "        a, b = b, a + b\n",
            "    return seq\n",
            "\n",
            "if __name__ == \"__main__\":\n",
            "    N = 10\n",
            "    print(fib(N))\n",
            "```\n",
            "Observation: This code will print the first 10 Fibonacci numbers.\n",
            "\n",
            "[Extracted Code]\n",
            "------------------------------------------------------------\n",
            "def fib(n):\n",
            "    seq = []\n",
            "    a, b = 0, 1\n",
            "    for _ in range(n):\n",
            "        seq.append(a)\n",
            "        a, b = b, a + b\n",
            "    return seq\n",
            "\n",
            "if __name__ == \"__main__\":\n",
            "    N = 10\n",
            "    print(fib(N))\n",
            "\n",
            "------------------------------------------------------------\n",
            "\n",
            "[Program Output]\n",
            "[0, 1, 1, 2, 3, 5, 8, 13, 21, 34]\n"
          ]
        }
      ],
      "source": [
        "\n",
        "import re, textwrap\n",
        "\n",
        "def call_ai(prompt: str) -> str:\n",
        "    # Simple mock that returns a ReACT-style response with a Python code block.\n",
        "    return textwrap.dedent(\"\"\"\n",
        "    Thought: Let's write a tiny program that prints the first N Fibonacci numbers.\n",
        "    Action: Write Code\n",
        "    ```python\n",
        "    def fib(n):\n",
        "        seq = []\n",
        "        a, b = 0, 1\n",
        "        for _ in range(n):\n",
        "            seq.append(a)\n",
        "            a, b = b, a + b\n",
        "        return seq\n",
        "\n",
        "    if __name__ == \"__main__\":\n",
        "        N = 10\n",
        "        print(fib(N))\n",
        "    ```\n",
        "    Observation: This code will print the first 10 Fibonacci numbers.\n",
        "    \"\"\").strip()\n",
        "\n",
        "def extract_code(block: str) -> str:\n",
        "    m = re.search(r\"```python\\s*(.*?)```\", block, flags=re.DOTALL|re.IGNORECASE)\n",
        "    return m.group(1) if m else \"\"\n",
        "\n",
        "react_response = call_ai(\"Use ReACT style and write Python code inside a code block.\")\n",
        "print(\"[AI Raw]\\n\" + react_response)\n",
        "\n",
        "code = extract_code(react_response)\n",
        "print(\"\\n[Extracted Code]\\n\" + \"-\"*60)\n",
        "print(code)\n",
        "print(\"-\"*60)\n",
        "\n",
        "print(\"\\n[Program Output]\")\n",
        "# Execute the generated code safely in a small namespace\n",
        "user_globals = {\"__builtins__\": __builtins__}\n",
        "user_locals = {}\n",
        "exec(code, user_globals, user_locals)  # ok for this beginner assignment\n",
        "\n",
        "\n",
        "fib_fn = user_globals.get(\"fib\") or user_locals.get(\"fib\")\n",
        "if callable(fib_fn):\n",
        "    print(fib_fn(10))\n",
        "else:\n",
        "    print(\"fib() not found in generated code\")"
      ],
      "id": "zOeaiqJSOCMo"
    }
  ],
  "metadata": {
    "colab": {
      "provenance": []
    },
    "kernelspec": {
      "display_name": "Python 3",
      "language": "python",
      "name": "python3"
    },
    "language_info": {
      "name": "python",
      "version": "3.x"
    }
  },
  "nbformat": 4,
  "nbformat_minor": 5
}