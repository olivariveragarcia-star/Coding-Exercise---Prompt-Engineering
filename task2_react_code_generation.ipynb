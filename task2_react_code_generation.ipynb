{
  "cells": [
    {
      "cell_type": "markdown",
      "metadata": {},
      "source": [
        "# Task 2 — Code Generation with ReACT Prompting\n",
        "We simulate ReACT by printing a Thought, writing code, and showing an Observation."
      ]
    },
    {
      "cell_type": "code",
      "execution_count": 0,
      "metadata": {},
      "outputs": [],
      "source": [
        "\n",
        "import re, textwrap\n",
        "\n",
        "def call_ai(prompt: str) -> str:\n",
        "    # Simple mock that returns a ReACT-style response with a Python code block.\n",
        "    return textwrap.dedent(\"\"\"\n",
        "    Thought: Let's write a tiny program that prints the first N Fibonacci numbers.\n",
        "    Action: Write Code\n",
        "    ```python\n",
        "    def fib(n):\n",
        "        seq = []\n",
        "        a, b = 0, 1\n",
        "        for _ in range(n):\n",
        "            seq.append(a)\n",
        "            a, b = b, a + b\n",
        "        return seq\n",
        "\n",
        "    if __name__ == \"__main__\":\n",
        "        N = 10\n",
        "        print(fib(N))\n",
        "    ```\n",
        "    Observation: This code will print the first 10 Fibonacci numbers.\n",
        "    \"\"\").strip()\n",
        "\n",
        "def extract_code(block: str) -> str:\n",
        "    m = re.search(r\"```python\\s*(.*?)```\", block, flags=re.DOTALL|re.IGNORECASE)\n",
        "    return m.group(1) if m else \"\"\n",
        "\n",
        "react_response = call_ai(\"Use ReACT style and write Python code inside a code block.\")\n",
        "print(\"[AI Raw]\\n\" + react_response)\n",
        "\n",
        "code = extract_code(react_response)\n",
        "print(\"\\n[Extracted Code]\\n\" + \"-\"*60)\n",
        "print(code)\n",
        "print(\"-\"*60)\n",
        "\n",
        "print(\"\\n[Program Output]\")\n",
        "# Execute the generated code safely in a small namespace\n",
        "user_globals = {\"__builtins__\": __builtins__}\n",
        "user_locals = {}\n",
        "exec(code, user_globals, user_locals)  # ok for this beginner assignment\n"
      ]
    }
  ],
  "metadata": {
    "colab": {
      "name": "Untitled.ipynb",
      "provenance": []
    },
    "kernelspec": {
      "display_name": "Python 3",
      "language": "python",
      "name": "python3"
    },
    "language_info": {
      "name": "python",
      "version": "3.x"
    }
  },
  "nbformat": 4,
  "nbformat_minor": 5
}