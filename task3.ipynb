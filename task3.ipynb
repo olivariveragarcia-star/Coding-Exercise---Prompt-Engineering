{
  "cells": [
    {
      "cell_type": "code",
      "execution_count": 4,
      "metadata": {
        "colab": {
          "base_uri": "https://localhost:8080/"
        },
        "id": "fX0MozNQQdk0",
        "outputId": "da7e3761-a63f-4f3d-a05b-04bcb89c10ad"
      },
      "outputs": [
        {
          "output_type": "stream",
          "name": "stdout",
          "text": [
            "[Summary] Regular exercise improves mood, boosts energy, and supports long term health.\n",
            "[Critique] Accurate but vague; could mention consistency and short sessions.\n",
            "[Improved Summary] Regular exercise can elevate mood through endorphins, raise daily energy, and improve long term health, consistent sessions help.\n"
          ]
        }
      ],
      "source": [
        "import textwrap\n",
        "\n",
        "def call_ai(prompt: str) -> str:\n",
        "    p = prompt.lower()\n",
        "    if \"concise summary\" in p:\n",
        "        return \"Regular exercise improves mood, boosts energy, and supports long term health.\"\n",
        "    if \"critique the summary\" in p:\n",
        "        return \"Accurate but vague; could mention consistency and short sessions.\"\n",
        "    if \"improve the summary\" in p:\n",
        "        return \"Regular exercise can elevate mood through endorphins, raise daily energy, and improve long term health, consistent sessions help.\"\n",
        "    return \"Mock AI response.\"\n",
        "\n",
        "article = (\n",
        "    \"Many studies suggest that regular physical activity benefits mental health, \"\n",
        "    \"energy levels, and long term wellness. Even brief sessions can help.\"\n",
        ")\n",
        "\n",
        "# 1) Ask for a concise summary\n",
        "prompt1 = textwrap.dedent(f\"\"\"\n",
        "Write a concise summary (1 sentence) of this short article:\n",
        "\\\"\\\"\\\"\n",
        "{article}\n",
        "\\\"\\\"\\\"\n",
        "\"\"\").strip()\n",
        "\n",
        "summary = call_ai(prompt1)\n",
        "print(\"[Summary]\", summary)\n",
        "\n",
        "# 2) Critique\n",
        "prompt2 = f'Critique the summary (1-2 sentences). Summary: \"{summary}\"'\n",
        "critique = call_ai(prompt2)\n",
        "print(\"[Critique]\", critique)\n",
        "\n",
        "# 3) Improve\n",
        "prompt3 = f'Improve the summary (1 sentence). Previous summary: \"{summary}\" Critique: \"{critique}\"'\n",
        "improved = call_ai(prompt3)\n",
        "print(\"[Improved Summary]\", improved)\n",
        "\n"
      ],
      "id": "fX0MozNQQdk0"
    }
  ],
  "metadata": {
    "colab": {
      "provenance": []
    },
    "kernelspec": {
      "display_name": "Python 3",
      "language": "python",
      "name": "python3"
    },
    "language_info": {
      "name": "python",
      "version": "3.x"
    }
  },
  "nbformat": 4,
  "nbformat_minor": 5
}